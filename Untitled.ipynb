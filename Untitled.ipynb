{
 "cells": [
  {
   "cell_type": "code",
   "execution_count": 2,
   "metadata": {},
   "outputs": [
    {
     "data": {
      "text/plain": [
       "['.git',\n",
       " '.ipynb_checkpoints',\n",
       " 'barcodes_merfish.csv',\n",
       " 'config.yaml',\n",
       " 'full_python_test.py',\n",
       " 'README.md',\n",
       " 'Readout_probes_information.csv',\n",
       " 'Snakefile',\n",
       " 'src',\n",
       " 'test_transcript_file.txt',\n",
       " 'Untitled.ipynb']"
      ]
     },
     "execution_count": 2,
     "metadata": {},
     "output_type": "execute_result"
    }
   ],
   "source": [
    "\n",
    "# from wimpy import chunks\n",
    "# from Bio import SeqIO\n",
    "# from Bio.SeqUtils import MeltingTemp as mt\n",
    "# from Bio.SeqUtils import GC\n",
    "# from csv import DictWriter\n",
    "# from pyfaidx import Fasta\n",
    "\n",
    "\n",
    "# correctlength_seq = []\n",
    "# GC_lower_bound: 43\n",
    "# GC_upper_bound: 63\n",
    "# Temp_lower_bound: 66\n",
    "# Temp_upper_bound: 76\n",
    "# kmer_length: 30\n",
    "# kmer_overlap: 20\n",
    "# probe_length: 135\n",
    "\n",
    "%pwd\n",
    "import os\n",
    "os.listdir()\n",
    "\n",
    "# # genes = Fasta('C:/Users/cey_c/OneDrive/Bureaublad/Probedesign_labrotation/gencode.v33.pc_transcripts.fixed.fa')\n",
    "# def split_complement(transcript_file):\n",
    "# ### Read in transcript files(genes of interest) -> transcripts in ensembleID form eg. ENSG00000010404\n",
    "#         ### Read in gencode reference sequence and take the reverse complement of the transcripts in transcript_file(genes of interest)\n",
    "#         genes = Fasta('C:/Users/cey_c/OneDrive/Bureaublad/Probedesign_labrotation/gencode.v33.pc_transcripts.fixed.fa')\n",
    "#         complement_sequence = []\n",
    "#         with open(transcript_file,\"r\") as transcripts:\n",
    "#                 transcripts = transcripts.readlines()\n",
    "#                 transcripts = [x.rstrip() for x in transcripts]\n",
    "#         # with open(\"complement_sequence.fasta\",\"w\") as output:\n",
    "#         for transcript in transcripts:\n",
    "#             # Testing different reading methods\n",
    "#         #        output.append(genes[transcript].complement)\n",
    "#         #        output.append(genes.get.seq(transcript,rc=True))\n",
    "#            complement_sequence.append(genes[transcript].complement)\n",
    "#             # complement_sequence.append(genes.get.seq(transcript,rc=True))\n",
    "\n",
    "#         split_complement_sequence = chunks(complement_sequence,chunk_size=30,overlap=20)\n",
    "#         return(split_complement_sequence)\n",
    "\n",
    "\n",
    "# def find_barcode(transcript, barcode_file):\n",
    "#     readout_selected = []\n",
    "#     with open(barcode_file, newline='') as csvfile:\n",
    "#         reader = csv.DictReader(csvfile)\n",
    "#         for row in reader:\n",
    "#             #print(row)\n",
    "#             readout_selected = []\n",
    "#             if row[\"id\"] == transcript:\n",
    "#                 for (key, value) in row.items():\n",
    "#                     if value == \"1\":\n",
    "#                         readout_selected.append(key)\n",
    "#                 return(readout_selected)\n",
    "#         return(False)\n",
    "\n",
    "# # if __name__ == \"__main__\":\n",
    "#     # TODO Transcript names are added to the barcoding file to get corresponding bits and RScodes\n",
    "\n",
    "#     # READ CONFIG\n",
    "#     fw_primer = Seq(GGGCCACGTCCTCAATCGAC)\n",
    "#     rv_primer = Seq(CCCTCGCCAAGGTTCGCTAG)\n",
    "#     with open(\"Readout_probes_information.csv\",\"r\") as readout_file, open(\"barcodes_merfish.csv\",\"r\") as barcode_file,open(\"encoding_probes.fasta\",\"w\") as output_encode:\n",
    "\n",
    "#         results = {}\n",
    "#         with open(readout_file, newline='') as csvfile:\n",
    "#             reader = csv.DictReader(csvfile)\n",
    "#             for row in reader:\n",
    "#                 #print(row)\n",
    "#                 results[row[\"Readout probe name\"]] = row[\"Sequence\"]\n",
    "\n",
    "#         for transcript in transcripts:\n",
    "#             readout_ids = find_barcode(transcript, barcode_file)\n",
    "\n",
    "\n",
    "#             for record in SeqIO.parse(split_complement_sequence,\"fasta\"):\n",
    "#                     if record.id.split(\"_\")[0] == transcript:\n",
    "#                         s = random.sample(readout_ids,3)\n",
    "#                         readout_seq = [results[i] for i in s]\n",
    "#                         record.seq = fw_primer +\"A\" + Seq(readout_seq[0]) + \"A\" + record.seq + \"A\" + Seq(readout_seq[1]) + \"A\" + Seq(readout_seq[2]) + \"A\" + rv_primer\n",
    "#                         record.id =  record.id +\"_\" + \"_\".join(s)\n",
    "#                         print(record.id)\n",
    "#                         record.description = \"\"\n",
    "#                         #print(record.seq)\n",
    "#                         SeqIO.write(record, output_encode, \"fasta\")\n",
    "\n",
    "#         return(output_encode)\n",
    "\n",
    "\n",
    "# def filter_probes(encoding_probes,GC_lower_bound=43,GC_upper_bound=63,templowerbound=66,tempupperbound=67,probe_length=135):\n",
    "#     filters= {}\n",
    "#     with open(\"filtered_probes.fasta\",\"w\") as output_filtered:\n",
    "#         with open(\"probe_stats.csv\",\"w\", newline='') as filter_file:\n",
    "#             fieldnames =[\"probe_id\",\"probelength\",\"GC\",\"meltingtemp\", \"sequence\"]\n",
    "#             csv_writer=csv.DictWriter(filter_file,fieldnames=fieldnames)\n",
    "#             csv_writer.writeheader()\n",
    "#             # for record in SeqIO.parse(\"encoding_probes.fasta\",\"fasta\"):\n",
    "#             for record in SeqIO.parse(encoding_probes,\"fasta\"):\n",
    "#                 filters[\"probelength\"] = len(record.seq)\n",
    "#                 filters[\"probe_id\"] = (record.id)\n",
    "#                 filters[\"GC\"] = (GC(record.seq))\n",
    "#                 filters[\"meltingtemp\"] = (mt.Tm_NN(record.seq))\n",
    "#                 filters[\"sequence\"] = (record.seq)\n",
    "#                 csv_writer.writerow(filters)\n",
    "#                 #print(filters)\n",
    "\n",
    "#                 if (    len(record.seq) == probe_length\n",
    "#                 and GC(record.seq) > GClowerbound\n",
    "#                 and GC(record.seq) < GCupperbound\n",
    "#                 and float(('%0.2f' % mt.Tm_NN(record.seq))) > templowerbound\n",
    "#                 and float(('%0.2f' % mt.Tm_NN(record.seq))) < tempupperbound\n",
    "#                 ):\n",
    "#                     correctlength_seq.append(record)\n",
    "#                     SeqIO.write(record, output_filtered, \"fasta\")\n",
    "#                 return\n",
    "\n",
    "# with open(\"test_transcript_file.txt\",\"r\") as transcripts:\n",
    "#         transcripts = transcripts.readlines()\n",
    "#         transcripts = [x.rstrip() for x in transcripts]\n",
    "#         print(transcripts)\n",
    "\n",
    "# complement_sequence = []      \n",
    "# for transcript in transcripts:\n",
    "#     # Testing different reading methods\n",
    "# #        output.append(genes[transcript].complement)\n",
    "# #        output.append(genes.get.seq(transcript,rc=True))\n",
    "#    complement_sequence.append(genes[transcript][:].complement)\n",
    "#    # complement_sequence.append(genes.get_seq(transcript,1,5579,rc=True))\n",
    "# print(complement_sequence)\n",
    "\n",
    "#   print(complement_sequence)\n",
    "\n",
    "\n",
    "#    genes[transcript][:].complement\n",
    "#    genes.get_seq( )\n",
    "  \n",
    "\n",
    "# split_complement(\"test_transcript_file.txt\")\n",
    "\n",
    "\n",
    "\n",
    "\n",
    "# ### blasting the filtered probes over the internet\n",
    "# from Bio.Blast import NCBIWWW\n",
    "# record = SeqIO.read(\"filtered_probes.fasta\", format=\"fasta\")\n",
    "# result_handle = NCBIWWW.qblast(\"blastn\", \"nt\", record.format(\"fasta\"))\n",
    "# #We need to be a bit careful since we can use result_handle.read() to read the BLAST output only once\n",
    "# #calling result_handle.read() again returns an empty string. so we save it then close it then read it in again\n",
    "\n",
    "# with open(\"my_blast.xml\", \"w\") as out_handle:\n",
    "#     out_handle.write(result_handle.read())\n",
    "\n",
    "# result_handle.close()\n",
    "\n",
    "# result_handle = open(\"my_blast.xml\")\n",
    "\n",
    "# ### blasting the filtered_probes locally\n",
    "# from Bio.Blast.Applications import NcbiblastxCommandline\n",
    "# help(NcbiblastxCommandline)\n",
    "\n",
    "# blastx_cline = NcbiblastxCommandline(query=\"opuntia.fasta\", db=\"nr\", evalue=0.001,\n",
    "#                                       outfmt=5, out=\"opuntia.xml\")\n",
    "# blastx_cline\n",
    "# NcbiblastxCommandline(cmd='blastx', out='opuntia.xml', outfmt=5, query='opuntia.fasta',\n",
    "# db='nr', evalue=0.001)\n",
    "# print(blastx_cline)\n",
    "#     blastx -out opuntia.xml -outfmt 5 -query opuntia.fasta -db nr -evalue 0.001\n",
    "# stdout, stderr = blastx_cline()\n",
    "\n",
    "\n",
    "# ### Checking the results\n",
    "# from Bio.Blast import NCBIXML\n",
    "# E_VALUE_THRESH = 1e-20\n",
    "# for record in NCBIXML.parse(open(\"results.xml\")):\n",
    "#     if record.alignments:\n",
    "#         print(\"\\n\")\n",
    "#         print(\"query: %s\" % record.query[:100])\n",
    "#         for align in record.alignments:\n",
    "#            for hsp in align.hsps:\n",
    "#               if hsp.expect < E_VALUE_THRESH:\n",
    "#                  print(\"match: %s \" % align.title[:100])\n"
   ]
  },
  {
   "cell_type": "code",
   "execution_count": 108,
   "metadata": {},
   "outputs": [],
   "source": [
    "# genes = Fasta('C:/Users/cey_c/OneDrive/Bureaublad/Probedesign_labrotation/gencode.v33.pc_transcripts.fixed.fa')\n",
    "def split_complement(transcript_file):\n",
    "### Read in transcript files(genes of interest) -> transcripts in ensembleID form eg. ENSG00000010404\n",
    "        ### Read in gencode reference sequence and take the reverse complement of the transcripts in transcript_file(genes of interest)\n",
    "        complement_sequence = []\n",
    "        with open(transcript_file,\"r\") as transcripts:\n",
    "                transcripts = transcripts.readlines()\n",
    "                transcripts = [x.rstrip() for x in transcripts]\n",
    "        # with open(\"complement_sequence.fasta\",\"w\") as output:\n",
    "        for transcript in transcripts:\n",
    "            # Testing different reading methods\n",
    "        #        output.append(genes[transcript].complement)\n",
    "        #        output.append(genes.get.seq(transcript,rc=True))\n",
    "           complement_sequence.append(-genes[transcript][:])\n",
    "            # complement_sequence.append(genes.get.seq(transcript,rc=True))\n",
    "\n",
    "        split_complement_sequence = chunks(complement_sequence,chunk_size=30,overlap=20)\n",
    "        split_complement_sequence =\n",
    "        return(print(list(split_complement_sequence)))"
   ]
  },
  {
   "cell_type": "code",
   "execution_count": 158,
   "metadata": {
    "scrolled": true
   },
   "outputs": [
    {
     "name": "stdout",
     "output_type": "stream",
     "text": [
      "['ENST00000421812.3', 'ENST00000325192.8']\n"
     ]
    }
   ],
   "source": [
    "complement_sequence = []\n",
    "with open(\"test_transcript_file.txt\",\"r\") as transcripts,open(\"temp_fasta_overlap.fasta\",\"w\") as temp_file:\n",
    "        transcripts = transcripts.readlines()\n",
    "        transcripts = [x.rstrip() for x in transcripts]\n",
    "        print(transcripts)\n",
    "        for transcript in transcripts:\n",
    "            complement_sequence.append(-genes[transcript][:])\n",
    "#             print(complement_sequence)\n",
    "            \n",
    "        for i in range(len(complement_sequence)):\n",
    "            temp_file.write('>' + complement_sequence[i].name + \"\\n\"+complement_sequence[i].seq + \"\\n\")\n",
    "                \n",
    "#         SeqIO.write(complement_sequence,temp_file,\"fasta\")\n",
    "#         print(complement_sequence)"
   ]
  },
  {
   "cell_type": "code",
   "execution_count": 168,
   "metadata": {},
   "outputs": [
    {
     "data": {
      "text/plain": [
       ">ENST00000421812.3\n",
       "AGTGAGGAGTCAGCCGGGCAGCCAGCCAGC"
      ]
     },
     "execution_count": 168,
     "metadata": {},
     "output_type": "execute_result"
    }
   ],
   "source": [
    "with open(\"temp_fasta_overlap.fasta\",\"r\") as f:\n",
    "    temp = Fasta(\"temp_fasta_overlap.fasta\")\n",
    "i=1\n",
    "# segments = [[i, (i+9)], [(i+49), (i+69)]]\n",
    "# segments = [[1, 10], [50, 70]]\n",
    "segments = [[i, (i+29)]]\n",
    "genes.get_spliced_seq\n",
    "genes.get_spliced_seq('ENST00000421812.3', segments)"
   ]
  },
  {
   "cell_type": "code",
   "execution_count": 135,
   "metadata": {},
   "outputs": [
    {
     "ename": "ValueError",
     "evalue": "I/O operation on closed file.",
     "output_type": "error",
     "traceback": [
      "\u001b[1;31m---------------------------------------------------------------------------\u001b[0m",
      "\u001b[1;31mValueError\u001b[0m                                Traceback (most recent call last)",
      "\u001b[1;32m<ipython-input-135-6b6048d83365>\u001b[0m in \u001b[0;36m<module>\u001b[1;34m\u001b[0m\n\u001b[1;32m----> 1\u001b[1;33m \u001b[0mtemp_file\u001b[0m\u001b[1;33m.\u001b[0m\u001b[0mreadlines\u001b[0m\u001b[1;33m(\u001b[0m\u001b[1;33m)\u001b[0m\u001b[1;33m\u001b[0m\u001b[1;33m\u001b[0m\u001b[0m\n\u001b[0m",
      "\u001b[1;31mValueError\u001b[0m: I/O operation on closed file."
     ]
    }
   ],
   "source": [
    "temp_file.readlines()"
   ]
  },
  {
   "cell_type": "code",
   "execution_count": 131,
   "metadata": {
    "scrolled": true
   },
   "outputs": [
    {
     "data": {
      "text/plain": [
       "[(>ENST00000421812.3:5579-1 (complement)\n",
       "  TAGAGCTGAGTGACATTTAATGTGTGGCAAAGAAGAATGACATGGTAAAAGACTGATATGGATTTAATGACAAATATTCCATATTGGTTGCTGAACACCAGAATGCTGTCCAAGGAACCATCGTTAAATAAAACAACCTGAAAATAAGGCAAATCTCACGTATACAAGCACACTCACACGAAACCTGTTACTTTTAGGATCATTAAATTATTCACTATTTTAACAAACAGCTGTAAAATAACATTACAGTGAAGAAAAATGTGCACAAACTTCAGAAACACAGTTTAGATTGTCTATGAACACAGGTCCTTAATTTGTATTTTTTCACATATGTACAGTCTCTTGATTGTAAAGAGACCACATGGCTCAAGGGGTTAACTTCTCATTTTCTCCTTCCAACTCGGAGCTCAAGATTTAATCAAAACCATTTAGCCTATTTAAATTGCTCCAGGTTTTGCTTAGTAAAGGGCAGCAGAGGAAGACTGCTCTTCATCAAATTCTCCAGGAAACAAATAATACACTTGCTTCCACCATCATTAATGAGTTGGTGGAAAAAGTCCTCAGATTAACGTTTTCAAGGGTGAACCGCAGTTAGCAGGGTTTGCCGAAGAAATATTATTCTAAAACTAGATAGAAGAAACAAACAACCTCCTGAATGCATTTAACCTCACTTAATGCAGGTAAGTTCCCTGAAGAATTGTAAGAAAAAATGGAATCACATTTTAAATGCACCAATAGAGTCGGGTGTTGGTAGTTGGATTGTTTTCTTCTGCTAAGAATGTGCTCATAGAAGGGATATCAACGTAGCAGCTGACTTTTTTATCCATGGTAATAGAAATAATGAGAGAGGTAAATGAAGTCCAAAGATTCCCACTGCCACTAAACTATTTTACATTAGCTTCACTCTCCACTCCCTGTTGAACCCATTCTCTAAAGTTGCTGATATGTAGTATATTTGATGCAGACGAGACCAGGCATAGCAATGGCAGCAAAAAAGCAAAAAAAAAGCGGATAATCAATCCATGAATAATCAAAAGTTGGATGAGATTTCATAGGCACAGACTTGAGAAAACTTAAAACAGCTGGAAGAGGTAGATGTACATGGAAAGAAACCCACAAAGCAGTAAGATTACCTAGAAATTGGCTATATTATTTTCAGGTGGGTCTAATATGTTTAGTATTCAGATTACAAATCAGAATTCAAAACGGACACTTGTTTGCTTGTATTACTCCTGACTAGAAGAAAATGAGAATTAATGTCTTTCAAAACTGTCTGTAGTTTGAAAACCTATTTGCATTTGTGAATAACAATAAACTGATTAAGAGGGCAAGATCAACAGGCATTATACAAGCCCAGAATTATCAGGATTTTTAAGTGTTTTTATAACCACAAAAACATGCTTTCCTACAGTCCCCAAAGAGGTTCTTTACTAGAATACAACTGATCAAGTATAAATTACTAGCATCCACAGAAACTTTGCTAAAAGTGTAAAAACAATCTCGTAGCTTTTTTTCCCCCTTCCACTGTGTCTGATATTTTGTGAAGATGCTTCCATGAAATGTGTAGGGTAACAATCACTAGAGAAGAAAACAATACTGCTTTCCACAACTCTAACTTCTAAAGGCTAACCTAGCACAGGGATCTTCAGCATAAGTAACTGAAATCTATACAAGAGTCATCTAACTACAGCCCCTTACTAGAAATGGAACATAGCTAGGATACCCTAATTAGGCGACAAAGACCAGCTTTGTCAATAAGGACATGTTTGGCCCTTCTAGGCTAGCCTTAAGTTTTTCATCAAGCATAAGAATTTTCAGTGTCCTTAATTTTATTATATAAATCATGACAAGTAAGTCTTCCTAGCAGCTGAGCTGGAGAATGCAAAAGGTCAGGCTACAATTATTCACACTGTCCTCAGCCTCTCTTCAGGACAGCCTGCACACTCCTGTTCCCAGGCCTTCCCTAAGACAGCGGTCATAATACTGATCTAACTCACAATGATGTGAGAAACAGCTAACAATTATTAAAAAGCATAAAGCACTTTGCAAATATCAAAGTGCTATTTTGGCATCTATATAACAACCAGAAAACATTCATTGTTTGTGCTATTTGGCAATTTTGCATTTACACCTCTCCCTGACTGGGCTCTTCTGGGTAAAGCCTTGAGATTTCTACTGTGCCTCCACGCGCAGGCAAAAGACATTCTTACTTAGACTAGATCCCTCGTCAATATGCATGGAAGTGGGGGTTAGTGGAGGTCACTAACAAATGCAAAGTGAAGGCAAATGAGACCAAGGAGTCTCGCATCCCAAAAAAGTGAACACTTTCTTGGATTTCTCACATAAAGGCCAGCAAAACTCTGAGCTAGTTGACTTTTTAGCAGGTCACTGGGCAACTGTTGGTCTAAAGTTCACTTGAAACACCTACATCAAGGTGAGGTGGGAAAAGGAAAGTCACACATAGCTGTGATTGTTCCTTTTCCCTGCACTTAAAACACCACAGTTGAGACCTGAAAGAAATACTGGGTGTGGCACACACCTGGGATGGGCGAGGGCGGGGGAGGGGGGTCATCCAGGTAAACCACCTTGACCCAGCATGAAGCTAGAGTATTTTCAAGGAAGTAGCAAAGAACCCGGGACAGAATCAGGATTTCCCACATCAGAGAACCAGTTATAAATGAATTTCTAAACCCCAGACATTGCCCCTTGAAATGAGTGTGGCGTTTTTCAGCCCACTTCCCCTTGGATGCCTCAAAATAGCAGCTAACTGTGGCTCAGAGAAAGGAAAAGTACATTAAATATCCTGTCCTATGTGACTGACAAGGTTCCCCTACTTTTTGTGAGACAACAGGTGATGTGTGGAGATCGGGCAAACTCTTGGTGGGACCAAGATAGAATCACTTATACTTGGTTTTATTTCGCCCCATAACCCTCATTTAAACCCTCTCCCCGCAACCTTCTACAGGCCATCGCGGCCTACCCTAGTCTATTGCCCGCCATCCTGTTCCCACCCCAGCCCACGAACTGCCCTTCCTCAAAGTGCCTGGTCCTCCAAGCTCTTCACCCCCTACAGCGTGTATTTAAGGAAGTCATCACCCCAAGCGCATCTCCTGAACAATTCTTCCGTGGAGAGGAGGCAAGTATAGCACCGGGAAAGACCAACTTACTCAACACTCCTCCCACTTCAGGAAACCCCAAACACCAAAGGCTCCCCAGTCACTCTCAGATTGTCCCTCCCGCCCCTTCCCCACTTCCTTCCCCTGGGTCAGTCCCAGGATATCTACCCCCCACAGGCTCCCCAGACGGCAGCCTCCCGCGGACCCAGCCCCTAACACAGGTGCAGCTTCTGGTGCTGCGCGAGGTGCGTTTTATAGCGGAAGCCTTTGCCGCAGCCCGCACACTTGTGCGGCTTGTTGCCCGTGTGGATGCGGCGGTGGCGGATCAGGTGGGAGCTCTGGATAAAGCTCTTGCCGCACTCGATGCACGTGTAGGGCTTCTCGCCCGTGTGCGTGCGCTGGTGCTGCGTGAGCGTGGAGAAGTCGCTGAAGCGCTTCTCGCACTGGCCACAGCGGAAGGGCTTCTCGCCGGTGTGCACGCGCAGGTGGTTCACCAGGTGCGAGTTACGCCCGAAGCCCTTCCCGCACTCGCGGCACACGTAGGGCCGCTCACCCGAGTGCGTGCGCTTGTGCGTGAAGAGGTGCGAGCTGACGCTGAAGGTCTCGCCGCACTCGGAGCACATGTAGGGCTTCTCGCCCGTGTGCACGCGCTGGTGCTTCACCAAGTCCGAGCGCCAGCTGAAGCGCTTGCCGCACTCGCCACAGCCGTGCGGCTTCTCGCCCGTGTGGATGCGCTGGTGGTTGGCCAGGTGCGAACGGCGCACGAAGCCCTTGCCGCACTCCCCGCAGGCGAAGGGCCGCAGCGCCGCCGCCCCCGCGCCGCTGGCCGCCGCGTGCGCGCGCCGGTGGCTCAACAGATGCGAGCTGAGGCTGAAGGCCTCGCCGCACTCGGGGCACGGGTAGGGCTTCTCGCCCGTGTGCAGGCGCCGGTGCTTGAGCAGGTCGGCGCGCCAGCTGAAGCTCTTGCCGCAGTCGGCGCACAGGTTGGGCCGCTCGCCCGTGTGCAGGCGCAGGTGGTTGGTCAGGTAGGTGTTGCGGCTGAAGCCCTTGCCGCACTCCCCGCAGCGGAAGGGCTTTTCGCGCGGGGGCCGGGCCAGCGGGGGCCCGGCCCCGAAGCCCCCCGCCACACCCACCCCCATCATGCCCACCATCGCGTCGCACTCGCCCGCCAGGCCGAAGGGCTCCAGGCTGGCGGCGGCAGCGGCCTCAGCCAGGCGGTGAATGCGCTGGTGCTGCAGGAAGGCGGCGCCAGGACTGAAGCTCTCCCCGCAGTCGGGGCAGATGGTGGGCGCGTCCATGATGCTGGCCACCAGGCTATCCAGCTCCCCGAGGTCCACGGCCATGGGGTGGTGGAGCCGGTGGAAGCGGCGGTGGGCGGGCTTGTCACCTCGGTGCCGACTCCCCAGGGAGAGATGTCGCCTCCAGGGAAGTACGGGAGGGGCCGGCTGCTCCTCTTCCTCCTCCAGCCGGTTCTCCCCAGCACTCTCGTCGTCGTCCTCCCGGAGGCTCCGGGATATGCTGTCAGACTCAGACAGTCCTGGGAACATCGCCATGTCAGCTACACCGGATTGGTCATCCTCTTCCCCACGGACAGAAACGCCTTCTTCCTCACTCAGCTGCCCCTCTGTGCAGATGTCGGGCACTGCTTCCCTGTGCCTTGAGTCCTGTGGGTTGGAGCCCATCTCCGGCTCCGGATGGCCTTCTCTCTTGTTTGTGTCATGTGGATTAGAGCCCATTTCTCTTTCTTCTGGGTCCCCTTCCCTGTCCTCAGAGTCCTCAAAATCAGAACCCATCCCTTTGTCTTCTGAGTCCTGGTGTGCACAGACACCCTGATTATCTTCTTGTTTCATCCAGGAAGAAAAGAGCAAGGGAGGTGACCAGGAATCCCTTCTCCTTGCCTTCCAAGCTCCTCCCTGGGCTTGGTTTCTCCGAGGGTCTCTGATGCCCCCTTCGGTGGTCGGCGGGACGGTCCTATTCCCTCTTGCATCGCTGTCTCCTCCCTCAAGTCTCAGCCTCCTCCTCCCCGCCCCTCGCCACATACCCCTGAGGGAGCTCAGTCCTGGCTTTGGGGGCGCGAGAGCACCCCATAAGCCCGGGGCCCTGCGCCCCAGGGGAGCGGACAACGGTCCACTTTACGAGGCACAACTTCGCCCAGCCGTTCCGCCACCGCACTCGAACACACACCCCATCCCCGCAGCGGTCGGGTCTGGTCCCGATCAGCCCCATCCCCGGGAGGCGGTTGAGCCCAGCCACAGCCACGCTCCTACCTGCGAGGCGGCTGGCGCGGCGAGGAGCTAGGGCACCGAGCGCCCCGGCCCGAGCCCCGCACCGCAGCGCGTCTGCCCTTGTGCGGCGGCGGCGGCTGCAGCGGCCGCTGGGTGGCCCGCTGGCTGGCTGGTTGGCTGGCTGGCTGGCTGGCTGGCTGGCTGGCTCGCTGGCTGGCTGCCCGGCTGACTCCTCACT,\n",
       "  >ENST00000325192.8:2935-1 (complement)\n",
       "  TGCAAATAAAAGAGGTAGAAAAATGTTTTTTTATTAGCATGTTCAAGGTAGTCAAGATTTTAACAAACATCTTAATCCTCACAACAACCCTGTGAGGTAGGTAAGTCATTGTTTCATGATAAACTAGTATTCCAAATAAAGTGCATTTCCTGAAAGAATAAATCTGCATTAGGAATAATTTTGTTAATGACACCATTTATGTTTACTGTAATATTTGTGTTATTGTATACTTCAGTTCATGCAATCAGGTGTCCCCAGAAAAGTTTACTCTAAATTAAATCCTAATCAGATACACTTGGGAAACTAAATAAATCTTGGGGTGAATTTTTTTTTTTTGTAAAATAAATCAGTTTGATATATAAACAAGAATTTTCATAGTATTTGCTAACGTGAGGCATTCTCAGTAATGTTTCACCCATATTTATCCATTCTTGGGTAAGTTTTCTCAACATGGCACCAAGCACTTTAGCAGTTCAGCAGATGGCAGTGATCTGTGCTGTCATGTAGGAGCTTCTAAATATATTGCAACTAATCTCAATCCCAAACCTGAAGTGAACTATTTATTGAAATGTAAACACTAAAATGGTGATAAATTTCAAAAAGTATTTTCCCTTGAGAATATTTTTTCCCTTAAGTTGCAAAAAGAAGAGTGACCTTAGGGTCTTTATAAAGAAACGTAATGTTCTGATAACTATAAAATCGTAATGATTTGTATTGCAAGTCAAAGCCGCATGCTATCAATCACTACTTACAAGGAAGCCAGTAGACATCACTCAAAATTTTAAGTATTCTTTTCTCTGTGTCAATATAAAACTTCACTAGGAAAAGAAGTATTTCCAGGCACGCATTTCCCCTTAAATATATATTTAAAGTGCATTTCTATTGCTAGTCCGACACTAGTAAACATCCAGTTGCCTAATATTGTTTATAGTTGTTTTATCTGCAAAATACATTAGAGCATTTCAAATTACATTTAATTATAAGATAAACATTTAAGATAGTTATATAATTTATTTGTAATAACGTGAATTAAGCTTGGAAGCTTAGCTATCACTTAAAATCCACTGGCAGGTTTATAATACTTTAGGAAGTAGTTAAAAGTAATTTGCCATTATAAAGAAATAGTTTAAGCTCTGAAAAATTTCTCAGACATTTTAAAAAATTGCTGCAGGGATACTAGGCAAATCGAACTAATAAACTAAGCCATCGATAAATTGTACATTCAAATCCATACTAGATCAAATAGTGCACTTTGGATTATAGTGAGGTAGGGCAAAGAAATACAGTCAGATATATTTTGAACTGTTAAATTATATAAACTTAAAATACTTTTACCTAGGTTTTACTCGAATATCCAAAAAGAAAAATTTAGAATTCAGATGACAAAGTATTTCTTGAATTCAAAGACAGAATTGTAAAAATCTTTGAGGTACATATAAATAAAAAATACAAAGGCCACAAGATATATTTTATTCCAACATAAAATATGCTCATATAAAAATAACTCAGGAAATATAAAAAAATTACAAACATTTTTGCACAGATCCTCTATATAAAACATTTACCTGGGGTTAAACACTGAAAATACACTTCTGAAACTAGTATAGTTGAACTATTTTCTTGGATACCAAGTATACACAAAATAAAAGCCCTTCATCTGGGAGAGCATGGGCAGGAGGGAAAACAACTTTTAGCATCAATCTATATTTATTTCTCTGTTGCTCGAATATAAACCAATGATGACAAGAGGAGAAACTCTGGGGGTTTATTTAACAAAATTAAATTCACATTTCTGAGCCCATCATAGTGCATCCAATGTCCACCAATCTGGAAAGCTGCAGAATAATGATGTTCCTCTTTGTTAAATAATGTGGCACCTTCCAACAAATACTTGTGATCAGACAAATCCAAGTAATAGGGTACATACGCCAGATCTTCAGATTTCCAATGTTGCATATTTAAGACAACAAAAGGGGGTGCCCCATGGCAGAAAATTCGTTGGGAAAATTCTCTTAAGCCACCACACCCATGCTCTTCACACAGTTCAATCTTGGAACAGAATAACTCATTCACAGCCAGTCTTATCAAGTTTCCATGTGGAATTTCTTGGGGAGGATTTATATTAATTGTGCGCTGCTGATCCTCCTGCACTCGAGTTGGGCATCGCCAGTTGGAACAGTAACTCTCTTGAATGGTAGACATGAGATTTTCAAGATTTTTTGTAAAATTATCATGCTCATTCCCAAACAAATCAATTATTAATGAAGCTTTATGGACTTCAGATTTGTATTGCTGTTTTTCCATCTTGTCCCAAATCCAAAGTAGCTTCACAGTTGTAAAACTGTAGGTGTCCATTAAGTAAAGAAAACAGTCTACAAACTCTCTACCAAAATGAAGAGAGAGTTCCCTAGGGAAGTTTTCATTTTCATTAAGAATGACATATAATAACATCAAGAATCCATCTATGGTGCAGGTATTTTTCAGTCTTATTTCAACATAGAGTGGTGTACAGGATACTGCTTTGCGGCCAGCTTTGATAGTAAAAACACCCCCCCAAGGAAGAACAGGCCTACAAAATGATCGATCTTGGTTATAGTTATTTTTAATTGATGCTTTGATCTCTTCAAACAGTGTCTTCATCCTCCCTGGGGACCGAAAACTGCCGGTGCCGCCGCACCCGTCGCCGCCGCCGCCTGCTCATGGAGAGCCCGGGCTGCCGCCGCCGCCGCCGCCGCCGCTGCCTCATCTATGAGTACCGCCGGCTGTCTCGGCCTCCCCCGGCGTGAGTTCTGGGCTCTGGCATGGCCTCCATGGCAGCCGCCGCGGCGGGAGCCACAGCAGCTCCAGCGCCCAGGCCCAATCTCACTGGACCCACGGAGCCAGGACAGTGGGACACGTCGCTTCTTATTACGGAGGAAGATTCGGCACGACCTCC)]"
      ]
     },
     "execution_count": 131,
     "metadata": {},
     "output_type": "execute_result"
    }
   ],
   "source": [
    "complement_sequence = []\n",
    "with open(\"test_transcript_file.txt\",\"r\") as transcripts:\n",
    "        transcripts = transcripts.readlines()\n",
    "        transcripts = [x.rstrip() for x in transcripts]\n",
    "\n",
    "for transcript in transcripts:\n",
    "    complement_sequence.append(-genes[transcript][:])\n",
    "\n",
    "split_complement_sequence = chunks(complement_sequence,chunk_size=30,overlap=20)\n",
    "list(split_complement_sequence)"
   ]
  },
  {
   "cell_type": "code",
   "execution_count": 87,
   "metadata": {},
   "outputs": [
    {
     "name": "stdout",
     "output_type": "stream",
     "text": [
      "Collecting split-fasta\n",
      "  Downloading split_fasta-1.0.0-py3-none-any.whl (3.8 kB)\n",
      "Installing collected packages: split-fasta\n",
      "Successfully installed split-fasta-1.0.0\n",
      "Note: you may need to restart the kernel to use updated packages.\n"
     ]
    },
    {
     "name": "stderr",
     "output_type": "stream",
     "text": [
      "WARNING: You are using pip version 20.2.3; however, version 21.0.1 is available.\n",
      "You should consider upgrading via the 'c:\\users\\cey_c\\appdata\\local\\programs\\python\\python37\\python.exe -m pip install --upgrade pip' command.\n"
     ]
    }
   ],
   "source": [
    "pip install split-fasta"
   ]
  },
  {
   "cell_type": "code",
   "execution_count": 90,
   "metadata": {
    "scrolled": true
   },
   "outputs": [
    {
     "ename": "SyntaxError",
     "evalue": "invalid syntax (<ipython-input-90-5a7d5d2ecbc7>, line 5)",
     "output_type": "error",
     "traceback": [
      "\u001b[1;36m  File \u001b[1;32m\"<ipython-input-90-5a7d5d2ecbc7>\"\u001b[1;36m, line \u001b[1;32m5\u001b[0m\n\u001b[1;33m    os.system(splitfasta \"temp_fasta_overlap.fasta\")\u001b[0m\n\u001b[1;37m                                                  ^\u001b[0m\n\u001b[1;31mSyntaxError\u001b[0m\u001b[1;31m:\u001b[0m invalid syntax\n"
     ]
    }
   ],
   "source": [
    "# pyfasta split -n1 -k{kmer_length} -o{kmer_overlap} {input}\n",
    "\n",
    "# import subprocess\n",
    "# subprocess.run[(pyfasta split -n1 -k 30 -o 20 temp_fasta_overlap.fasta)]\n",
    "os.system(splitfasta \"temp_fasta_overlap.fasta\")"
   ]
  },
  {
   "cell_type": "code",
   "execution_count": 109,
   "metadata": {
    "scrolled": true
   },
   "outputs": [
    {
     "name": "stdout",
     "output_type": "stream",
     "text": [
      "[(>ENST00000421812.3:5579-1 (complement)\n",
      "TAGAGCTGAGTGACATTTAATGTGTGGCAAAGAAGAATGACATGGTAAAAGACTGATATGGATTTAATGACAAATATTCCATATTGGTTGCTGAACACCAGAATGCTGTCCAAGGAACCATCGTTAAATAAAACAACCTGAAAATAAGGCAAATCTCACGTATACAAGCACACTCACACGAAACCTGTTACTTTTAGGATCATTAAATTATTCACTATTTTAACAAACAGCTGTAAAATAACATTACAGTGAAGAAAAATGTGCACAAACTTCAGAAACACAGTTTAGATTGTCTATGAACACAGGTCCTTAATTTGTATTTTTTCACATATGTACAGTCTCTTGATTGTAAAGAGACCACATGGCTCAAGGGGTTAACTTCTCATTTTCTCCTTCCAACTCGGAGCTCAAGATTTAATCAAAACCATTTAGCCTATTTAAATTGCTCCAGGTTTTGCTTAGTAAAGGGCAGCAGAGGAAGACTGCTCTTCATCAAATTCTCCAGGAAACAAATAATACACTTGCTTCCACCATCATTAATGAGTTGGTGGAAAAAGTCCTCAGATTAACGTTTTCAAGGGTGAACCGCAGTTAGCAGGGTTTGCCGAAGAAATATTATTCTAAAACTAGATAGAAGAAACAAACAACCTCCTGAATGCATTTAACCTCACTTAATGCAGGTAAGTTCCCTGAAGAATTGTAAGAAAAAATGGAATCACATTTTAAATGCACCAATAGAGTCGGGTGTTGGTAGTTGGATTGTTTTCTTCTGCTAAGAATGTGCTCATAGAAGGGATATCAACGTAGCAGCTGACTTTTTTATCCATGGTAATAGAAATAATGAGAGAGGTAAATGAAGTCCAAAGATTCCCACTGCCACTAAACTATTTTACATTAGCTTCACTCTCCACTCCCTGTTGAACCCATTCTCTAAAGTTGCTGATATGTAGTATATTTGATGCAGACGAGACCAGGCATAGCAATGGCAGCAAAAAAGCAAAAAAAAAGCGGATAATCAATCCATGAATAATCAAAAGTTGGATGAGATTTCATAGGCACAGACTTGAGAAAACTTAAAACAGCTGGAAGAGGTAGATGTACATGGAAAGAAACCCACAAAGCAGTAAGATTACCTAGAAATTGGCTATATTATTTTCAGGTGGGTCTAATATGTTTAGTATTCAGATTACAAATCAGAATTCAAAACGGACACTTGTTTGCTTGTATTACTCCTGACTAGAAGAAAATGAGAATTAATGTCTTTCAAAACTGTCTGTAGTTTGAAAACCTATTTGCATTTGTGAATAACAATAAACTGATTAAGAGGGCAAGATCAACAGGCATTATACAAGCCCAGAATTATCAGGATTTTTAAGTGTTTTTATAACCACAAAAACATGCTTTCCTACAGTCCCCAAAGAGGTTCTTTACTAGAATACAACTGATCAAGTATAAATTACTAGCATCCACAGAAACTTTGCTAAAAGTGTAAAAACAATCTCGTAGCTTTTTTTCCCCCTTCCACTGTGTCTGATATTTTGTGAAGATGCTTCCATGAAATGTGTAGGGTAACAATCACTAGAGAAGAAAACAATACTGCTTTCCACAACTCTAACTTCTAAAGGCTAACCTAGCACAGGGATCTTCAGCATAAGTAACTGAAATCTATACAAGAGTCATCTAACTACAGCCCCTTACTAGAAATGGAACATAGCTAGGATACCCTAATTAGGCGACAAAGACCAGCTTTGTCAATAAGGACATGTTTGGCCCTTCTAGGCTAGCCTTAAGTTTTTCATCAAGCATAAGAATTTTCAGTGTCCTTAATTTTATTATATAAATCATGACAAGTAAGTCTTCCTAGCAGCTGAGCTGGAGAATGCAAAAGGTCAGGCTACAATTATTCACACTGTCCTCAGCCTCTCTTCAGGACAGCCTGCACACTCCTGTTCCCAGGCCTTCCCTAAGACAGCGGTCATAATACTGATCTAACTCACAATGATGTGAGAAACAGCTAACAATTATTAAAAAGCATAAAGCACTTTGCAAATATCAAAGTGCTATTTTGGCATCTATATAACAACCAGAAAACATTCATTGTTTGTGCTATTTGGCAATTTTGCATTTACACCTCTCCCTGACTGGGCTCTTCTGGGTAAAGCCTTGAGATTTCTACTGTGCCTCCACGCGCAGGCAAAAGACATTCTTACTTAGACTAGATCCCTCGTCAATATGCATGGAAGTGGGGGTTAGTGGAGGTCACTAACAAATGCAAAGTGAAGGCAAATGAGACCAAGGAGTCTCGCATCCCAAAAAAGTGAACACTTTCTTGGATTTCTCACATAAAGGCCAGCAAAACTCTGAGCTAGTTGACTTTTTAGCAGGTCACTGGGCAACTGTTGGTCTAAAGTTCACTTGAAACACCTACATCAAGGTGAGGTGGGAAAAGGAAAGTCACACATAGCTGTGATTGTTCCTTTTCCCTGCACTTAAAACACCACAGTTGAGACCTGAAAGAAATACTGGGTGTGGCACACACCTGGGATGGGCGAGGGCGGGGGAGGGGGGTCATCCAGGTAAACCACCTTGACCCAGCATGAAGCTAGAGTATTTTCAAGGAAGTAGCAAAGAACCCGGGACAGAATCAGGATTTCCCACATCAGAGAACCAGTTATAAATGAATTTCTAAACCCCAGACATTGCCCCTTGAAATGAGTGTGGCGTTTTTCAGCCCACTTCCCCTTGGATGCCTCAAAATAGCAGCTAACTGTGGCTCAGAGAAAGGAAAAGTACATTAAATATCCTGTCCTATGTGACTGACAAGGTTCCCCTACTTTTTGTGAGACAACAGGTGATGTGTGGAGATCGGGCAAACTCTTGGTGGGACCAAGATAGAATCACTTATACTTGGTTTTATTTCGCCCCATAACCCTCATTTAAACCCTCTCCCCGCAACCTTCTACAGGCCATCGCGGCCTACCCTAGTCTATTGCCCGCCATCCTGTTCCCACCCCAGCCCACGAACTGCCCTTCCTCAAAGTGCCTGGTCCTCCAAGCTCTTCACCCCCTACAGCGTGTATTTAAGGAAGTCATCACCCCAAGCGCATCTCCTGAACAATTCTTCCGTGGAGAGGAGGCAAGTATAGCACCGGGAAAGACCAACTTACTCAACACTCCTCCCACTTCAGGAAACCCCAAACACCAAAGGCTCCCCAGTCACTCTCAGATTGTCCCTCCCGCCCCTTCCCCACTTCCTTCCCCTGGGTCAGTCCCAGGATATCTACCCCCCACAGGCTCCCCAGACGGCAGCCTCCCGCGGACCCAGCCCCTAACACAGGTGCAGCTTCTGGTGCTGCGCGAGGTGCGTTTTATAGCGGAAGCCTTTGCCGCAGCCCGCACACTTGTGCGGCTTGTTGCCCGTGTGGATGCGGCGGTGGCGGATCAGGTGGGAGCTCTGGATAAAGCTCTTGCCGCACTCGATGCACGTGTAGGGCTTCTCGCCCGTGTGCGTGCGCTGGTGCTGCGTGAGCGTGGAGAAGTCGCTGAAGCGCTTCTCGCACTGGCCACAGCGGAAGGGCTTCTCGCCGGTGTGCACGCGCAGGTGGTTCACCAGGTGCGAGTTACGCCCGAAGCCCTTCCCGCACTCGCGGCACACGTAGGGCCGCTCACCCGAGTGCGTGCGCTTGTGCGTGAAGAGGTGCGAGCTGACGCTGAAGGTCTCGCCGCACTCGGAGCACATGTAGGGCTTCTCGCCCGTGTGCACGCGCTGGTGCTTCACCAAGTCCGAGCGCCAGCTGAAGCGCTTGCCGCACTCGCCACAGCCGTGCGGCTTCTCGCCCGTGTGGATGCGCTGGTGGTTGGCCAGGTGCGAACGGCGCACGAAGCCCTTGCCGCACTCCCCGCAGGCGAAGGGCCGCAGCGCCGCCGCCCCCGCGCCGCTGGCCGCCGCGTGCGCGCGCCGGTGGCTCAACAGATGCGAGCTGAGGCTGAAGGCCTCGCCGCACTCGGGGCACGGGTAGGGCTTCTCGCCCGTGTGCAGGCGCCGGTGCTTGAGCAGGTCGGCGCGCCAGCTGAAGCTCTTGCCGCAGTCGGCGCACAGGTTGGGCCGCTCGCCCGTGTGCAGGCGCAGGTGGTTGGTCAGGTAGGTGTTGCGGCTGAAGCCCTTGCCGCACTCCCCGCAGCGGAAGGGCTTTTCGCGCGGGGGCCGGGCCAGCGGGGGCCCGGCCCCGAAGCCCCCCGCCACACCCACCCCCATCATGCCCACCATCGCGTCGCACTCGCCCGCCAGGCCGAAGGGCTCCAGGCTGGCGGCGGCAGCGGCCTCAGCCAGGCGGTGAATGCGCTGGTGCTGCAGGAAGGCGGCGCCAGGACTGAAGCTCTCCCCGCAGTCGGGGCAGATGGTGGGCGCGTCCATGATGCTGGCCACCAGGCTATCCAGCTCCCCGAGGTCCACGGCCATGGGGTGGTGGAGCCGGTGGAAGCGGCGGTGGGCGGGCTTGTCACCTCGGTGCCGACTCCCCAGGGAGAGATGTCGCCTCCAGGGAAGTACGGGAGGGGCCGGCTGCTCCTCTTCCTCCTCCAGCCGGTTCTCCCCAGCACTCTCGTCGTCGTCCTCCCGGAGGCTCCGGGATATGCTGTCAGACTCAGACAGTCCTGGGAACATCGCCATGTCAGCTACACCGGATTGGTCATCCTCTTCCCCACGGACAGAAACGCCTTCTTCCTCACTCAGCTGCCCCTCTGTGCAGATGTCGGGCACTGCTTCCCTGTGCCTTGAGTCCTGTGGGTTGGAGCCCATCTCCGGCTCCGGATGGCCTTCTCTCTTGTTTGTGTCATGTGGATTAGAGCCCATTTCTCTTTCTTCTGGGTCCCCTTCCCTGTCCTCAGAGTCCTCAAAATCAGAACCCATCCCTTTGTCTTCTGAGTCCTGGTGTGCACAGACACCCTGATTATCTTCTTGTTTCATCCAGGAAGAAAAGAGCAAGGGAGGTGACCAGGAATCCCTTCTCCTTGCCTTCCAAGCTCCTCCCTGGGCTTGGTTTCTCCGAGGGTCTCTGATGCCCCCTTCGGTGGTCGGCGGGACGGTCCTATTCCCTCTTGCATCGCTGTCTCCTCCCTCAAGTCTCAGCCTCCTCCTCCCCGCCCCTCGCCACATACCCCTGAGGGAGCTCAGTCCTGGCTTTGGGGGCGCGAGAGCACCCCATAAGCCCGGGGCCCTGCGCCCCAGGGGAGCGGACAACGGTCCACTTTACGAGGCACAACTTCGCCCAGCCGTTCCGCCACCGCACTCGAACACACACCCCATCCCCGCAGCGGTCGGGTCTGGTCCCGATCAGCCCCATCCCCGGGAGGCGGTTGAGCCCAGCCACAGCCACGCTCCTACCTGCGAGGCGGCTGGCGCGGCGAGGAGCTAGGGCACCGAGCGCCCCGGCCCGAGCCCCGCACCGCAGCGCGTCTGCCCTTGTGCGGCGGCGGCGGCTGCAGCGGCCGCTGGGTGGCCCGCTGGCTGGCTGGTTGGCTGGCTGGCTGGCTGGCTGGCTGGCTGGCTCGCTGGCTGGCTGCCCGGCTGACTCCTCACT, >ENST00000325192.8:2935-1 (complement)\n",
      "TGCAAATAAAAGAGGTAGAAAAATGTTTTTTTATTAGCATGTTCAAGGTAGTCAAGATTTTAACAAACATCTTAATCCTCACAACAACCCTGTGAGGTAGGTAAGTCATTGTTTCATGATAAACTAGTATTCCAAATAAAGTGCATTTCCTGAAAGAATAAATCTGCATTAGGAATAATTTTGTTAATGACACCATTTATGTTTACTGTAATATTTGTGTTATTGTATACTTCAGTTCATGCAATCAGGTGTCCCCAGAAAAGTTTACTCTAAATTAAATCCTAATCAGATACACTTGGGAAACTAAATAAATCTTGGGGTGAATTTTTTTTTTTTGTAAAATAAATCAGTTTGATATATAAACAAGAATTTTCATAGTATTTGCTAACGTGAGGCATTCTCAGTAATGTTTCACCCATATTTATCCATTCTTGGGTAAGTTTTCTCAACATGGCACCAAGCACTTTAGCAGTTCAGCAGATGGCAGTGATCTGTGCTGTCATGTAGGAGCTTCTAAATATATTGCAACTAATCTCAATCCCAAACCTGAAGTGAACTATTTATTGAAATGTAAACACTAAAATGGTGATAAATTTCAAAAAGTATTTTCCCTTGAGAATATTTTTTCCCTTAAGTTGCAAAAAGAAGAGTGACCTTAGGGTCTTTATAAAGAAACGTAATGTTCTGATAACTATAAAATCGTAATGATTTGTATTGCAAGTCAAAGCCGCATGCTATCAATCACTACTTACAAGGAAGCCAGTAGACATCACTCAAAATTTTAAGTATTCTTTTCTCTGTGTCAATATAAAACTTCACTAGGAAAAGAAGTATTTCCAGGCACGCATTTCCCCTTAAATATATATTTAAAGTGCATTTCTATTGCTAGTCCGACACTAGTAAACATCCAGTTGCCTAATATTGTTTATAGTTGTTTTATCTGCAAAATACATTAGAGCATTTCAAATTACATTTAATTATAAGATAAACATTTAAGATAGTTATATAATTTATTTGTAATAACGTGAATTAAGCTTGGAAGCTTAGCTATCACTTAAAATCCACTGGCAGGTTTATAATACTTTAGGAAGTAGTTAAAAGTAATTTGCCATTATAAAGAAATAGTTTAAGCTCTGAAAAATTTCTCAGACATTTTAAAAAATTGCTGCAGGGATACTAGGCAAATCGAACTAATAAACTAAGCCATCGATAAATTGTACATTCAAATCCATACTAGATCAAATAGTGCACTTTGGATTATAGTGAGGTAGGGCAAAGAAATACAGTCAGATATATTTTGAACTGTTAAATTATATAAACTTAAAATACTTTTACCTAGGTTTTACTCGAATATCCAAAAAGAAAAATTTAGAATTCAGATGACAAAGTATTTCTTGAATTCAAAGACAGAATTGTAAAAATCTTTGAGGTACATATAAATAAAAAATACAAAGGCCACAAGATATATTTTATTCCAACATAAAATATGCTCATATAAAAATAACTCAGGAAATATAAAAAAATTACAAACATTTTTGCACAGATCCTCTATATAAAACATTTACCTGGGGTTAAACACTGAAAATACACTTCTGAAACTAGTATAGTTGAACTATTTTCTTGGATACCAAGTATACACAAAATAAAAGCCCTTCATCTGGGAGAGCATGGGCAGGAGGGAAAACAACTTTTAGCATCAATCTATATTTATTTCTCTGTTGCTCGAATATAAACCAATGATGACAAGAGGAGAAACTCTGGGGGTTTATTTAACAAAATTAAATTCACATTTCTGAGCCCATCATAGTGCATCCAATGTCCACCAATCTGGAAAGCTGCAGAATAATGATGTTCCTCTTTGTTAAATAATGTGGCACCTTCCAACAAATACTTGTGATCAGACAAATCCAAGTAATAGGGTACATACGCCAGATCTTCAGATTTCCAATGTTGCATATTTAAGACAACAAAAGGGGGTGCCCCATGGCAGAAAATTCGTTGGGAAAATTCTCTTAAGCCACCACACCCATGCTCTTCACACAGTTCAATCTTGGAACAGAATAACTCATTCACAGCCAGTCTTATCAAGTTTCCATGTGGAATTTCTTGGGGAGGATTTATATTAATTGTGCGCTGCTGATCCTCCTGCACTCGAGTTGGGCATCGCCAGTTGGAACAGTAACTCTCTTGAATGGTAGACATGAGATTTTCAAGATTTTTTGTAAAATTATCATGCTCATTCCCAAACAAATCAATTATTAATGAAGCTTTATGGACTTCAGATTTGTATTGCTGTTTTTCCATCTTGTCCCAAATCCAAAGTAGCTTCACAGTTGTAAAACTGTAGGTGTCCATTAAGTAAAGAAAACAGTCTACAAACTCTCTACCAAAATGAAGAGAGAGTTCCCTAGGGAAGTTTTCATTTTCATTAAGAATGACATATAATAACATCAAGAATCCATCTATGGTGCAGGTATTTTTCAGTCTTATTTCAACATAGAGTGGTGTACAGGATACTGCTTTGCGGCCAGCTTTGATAGTAAAAACACCCCCCCAAGGAAGAACAGGCCTACAAAATGATCGATCTTGGTTATAGTTATTTTTAATTGATGCTTTGATCTCTTCAAACAGTGTCTTCATCCTCCCTGGGGACCGAAAACTGCCGGTGCCGCCGCACCCGTCGCCGCCGCCGCCTGCTCATGGAGAGCCCGGGCTGCCGCCGCCGCCGCCGCCGCCGCTGCCTCATCTATGAGTACCGCCGGCTGTCTCGGCCTCCCCCGGCGTGAGTTCTGGGCTCTGGCATGGCCTCCATGGCAGCCGCCGCGGCGGGAGCCACAGCAGCTCCAGCGCCCAGGCCCAATCTCACTGGACCCACGGAGCCAGGACAGTGGGACACGTCGCTTCTTATTACGGAGGAAGATTCGGCACGACCTCC)]\n"
     ]
    }
   ],
   "source": [
    "# complement_sequence = []\n",
    "(split_complement(\"test_transcript_file.txt\"))\n",
    "# split_complement_sequence"
   ]
  },
  {
   "cell_type": "code",
   "execution_count": 132,
   "metadata": {},
   "outputs": [],
   "source": [
    "genes = Fasta('C:/Users/cey_c/OneDrive/Bureaublad/Probedesign_labrotation/gencode.v33.pc_transcripts.fixed.fa')\n",
    "\n",
    "def split_complement(transcript_file):\n",
    "### Read in transcript files(genes of interest) -> transcripts in ensembleID form eg. ENSG00000010404\n",
    "        ### Read in gencode reference sequence and take the reverse complement of the transcripts in transcript_file(genes of interest)\n",
    "        complement_sequence = []\n",
    "        with open(transcript_file,\"r\") as transcripts:\n",
    "                transcripts = transcripts.readlines()\n",
    "                transcripts = [x.rstrip() for x in transcripts]\n",
    "        # with open(\"complement_sequence.fasta\",\"w\") as output:\n",
    "        for transcript in transcripts:\n",
    "            # Testing different reading methods\n",
    "        #        output.append(genes[transcript].complement)\n",
    "        #        output.append(genes.get.seq(transcript,rc=True))\n",
    "            complement_sequence.append(-genes[transcript][:])\n",
    "            \n",
    "            for i in range(len(complement_sequence)):\n",
    "                temp_file.write('>' + complement_sequence[i].name + \"\\n\")\n",
    "                temp_file.write(complement_sequence[i].seq + \"\\n\")  \n",
    "\n",
    "        # split_complement_sequence = chunks(complement_sequence,chunk_size=30,overlap=20)\n",
    "        return(temp_file)"
   ]
  },
  {
   "cell_type": "code",
   "execution_count": null,
   "metadata": {},
   "outputs": [],
   "source": [
    "split"
   ]
  }
 ],
 "metadata": {
  "kernelspec": {
   "display_name": "Python 3",
   "language": "python",
   "name": "python3"
  },
  "language_info": {
   "codemirror_mode": {
    "name": "ipython",
    "version": 3
   },
   "file_extension": ".py",
   "mimetype": "text/x-python",
   "name": "python",
   "nbconvert_exporter": "python",
   "pygments_lexer": "ipython3",
   "version": "3.7.9"
  }
 },
 "nbformat": 4,
 "nbformat_minor": 4
}
